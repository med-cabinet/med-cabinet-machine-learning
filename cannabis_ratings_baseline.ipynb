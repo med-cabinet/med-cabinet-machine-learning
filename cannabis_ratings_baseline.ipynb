{
  "nbformat": 4,
  "nbformat_minor": 0,
  "metadata": {
    "colab": {
      "name": "cannabis_ratings_baseline.ipynb",
      "version": "0.3.2",
      "provenance": [],
      "collapsed_sections": []
    },
    "kernelspec": {
      "name": "python3",
      "display_name": "Python 3"
    }
  },
  "cells": [
    {
      "cell_type": "markdown",
      "metadata": {
        "id": "FQ_IUZ5_-CiZ",
        "colab_type": "text"
      },
      "source": [
        "# Predicting Rating - baseline\n",
        " - data can be found [here](https://www.kaggle.com/kingburrito666/cannabis-strains)"
      ]
    },
    {
      "cell_type": "code",
      "metadata": {
        "id": "IKJs7-poRxZM",
        "colab_type": "code",
        "outputId": "8a6f7214-dfd7-4fd8-e603-da2807ba9a4d",
        "colab": {
          "base_uri": "https://localhost:8080/",
          "height": 221
        }
      },
      "source": [
        "!pip install category_encoders"
      ],
      "execution_count": 1,
      "outputs": [
        {
          "output_type": "stream",
          "text": [
            "Requirement already satisfied: category_encoders in /usr/local/lib/python3.6/dist-packages (2.0.0)\n",
            "Requirement already satisfied: scipy>=0.19.0 in /usr/local/lib/python3.6/dist-packages (from category_encoders) (1.3.1)\n",
            "Requirement already satisfied: numpy>=1.11.3 in /usr/local/lib/python3.6/dist-packages (from category_encoders) (1.16.4)\n",
            "Requirement already satisfied: pandas>=0.21.1 in /usr/local/lib/python3.6/dist-packages (from category_encoders) (0.24.2)\n",
            "Requirement already satisfied: statsmodels>=0.6.1 in /usr/local/lib/python3.6/dist-packages (from category_encoders) (0.10.1)\n",
            "Requirement already satisfied: patsy>=0.4.1 in /usr/local/lib/python3.6/dist-packages (from category_encoders) (0.5.1)\n",
            "Requirement already satisfied: scikit-learn>=0.20.0 in /usr/local/lib/python3.6/dist-packages (from category_encoders) (0.21.3)\n",
            "Requirement already satisfied: pytz>=2011k in /usr/local/lib/python3.6/dist-packages (from pandas>=0.21.1->category_encoders) (2018.9)\n",
            "Requirement already satisfied: python-dateutil>=2.5.0 in /usr/local/lib/python3.6/dist-packages (from pandas>=0.21.1->category_encoders) (2.5.3)\n",
            "Requirement already satisfied: six in /usr/local/lib/python3.6/dist-packages (from patsy>=0.4.1->category_encoders) (1.12.0)\n",
            "Requirement already satisfied: joblib>=0.11 in /usr/local/lib/python3.6/dist-packages (from scikit-learn>=0.20.0->category_encoders) (0.13.2)\n"
          ],
          "name": "stdout"
        }
      ]
    },
    {
      "cell_type": "code",
      "metadata": {
        "id": "RJYLpU3xDJtV",
        "colab_type": "code",
        "colab": {}
      },
      "source": [
        "import category_encoders as ce\n",
        "from math import sqrt\n",
        "import numpy as np\n",
        "import pandas as pd\n",
        "import seaborn as sns\n",
        "from sklearn.decomposition import PCA\n",
        "from sklearn.linear_model import LinearRegression\n",
        "from sklearn.model_selection import train_test_split\n",
        "from sklearn.metrics import mean_absolute_error, r2_score, mean_squared_error\n",
        "from sklearn.preprocessing import StandardScaler\n",
        "from xgboost import XGBRegressor"
      ],
      "execution_count": 0,
      "outputs": []
    },
    {
      "cell_type": "markdown",
      "metadata": {
        "id": "sXkzkNAKd7CE",
        "colab_type": "text"
      },
      "source": [
        "##Read in data\n",
        "  - download and import to notebook"
      ]
    },
    {
      "cell_type": "code",
      "metadata": {
        "id": "ndeS-NkHDgxV",
        "colab_type": "code",
        "outputId": "58366bac-2beb-4656-f1c5-5596d2e58e87",
        "colab": {
          "base_uri": "https://localhost:8080/",
          "height": 534
        }
      },
      "source": [
        "path = 'cannabis.csv'\n",
        "df = pd.read_csv(path)\n",
        "df.head()"
      ],
      "execution_count": 3,
      "outputs": [
        {
          "output_type": "execute_result",
          "data": {
            "text/html": [
              "<div>\n",
              "<style scoped>\n",
              "    .dataframe tbody tr th:only-of-type {\n",
              "        vertical-align: middle;\n",
              "    }\n",
              "\n",
              "    .dataframe tbody tr th {\n",
              "        vertical-align: top;\n",
              "    }\n",
              "\n",
              "    .dataframe thead th {\n",
              "        text-align: right;\n",
              "    }\n",
              "</style>\n",
              "<table border=\"1\" class=\"dataframe\">\n",
              "  <thead>\n",
              "    <tr style=\"text-align: right;\">\n",
              "      <th></th>\n",
              "      <th>Strain</th>\n",
              "      <th>Type</th>\n",
              "      <th>Rating</th>\n",
              "      <th>Effects</th>\n",
              "      <th>Flavor</th>\n",
              "      <th>Description</th>\n",
              "    </tr>\n",
              "  </thead>\n",
              "  <tbody>\n",
              "    <tr>\n",
              "      <th>0</th>\n",
              "      <td>100-Og</td>\n",
              "      <td>hybrid</td>\n",
              "      <td>4.0</td>\n",
              "      <td>Creative,Energetic,Tingly,Euphoric,Relaxed</td>\n",
              "      <td>Earthy,Sweet,Citrus</td>\n",
              "      <td>$100 OG is a 50/50 hybrid strain that packs a ...</td>\n",
              "    </tr>\n",
              "    <tr>\n",
              "      <th>1</th>\n",
              "      <td>98-White-Widow</td>\n",
              "      <td>hybrid</td>\n",
              "      <td>4.7</td>\n",
              "      <td>Relaxed,Aroused,Creative,Happy,Energetic</td>\n",
              "      <td>Flowery,Violet,Diesel</td>\n",
              "      <td>The ‘98 Aloha White Widow is an especially pot...</td>\n",
              "    </tr>\n",
              "    <tr>\n",
              "      <th>2</th>\n",
              "      <td>1024</td>\n",
              "      <td>sativa</td>\n",
              "      <td>4.4</td>\n",
              "      <td>Uplifted,Happy,Relaxed,Energetic,Creative</td>\n",
              "      <td>Spicy/Herbal,Sage,Woody</td>\n",
              "      <td>1024 is a sativa-dominant hybrid bred in Spain...</td>\n",
              "    </tr>\n",
              "    <tr>\n",
              "      <th>3</th>\n",
              "      <td>13-Dawgs</td>\n",
              "      <td>hybrid</td>\n",
              "      <td>4.2</td>\n",
              "      <td>Tingly,Creative,Hungry,Relaxed,Uplifted</td>\n",
              "      <td>Apricot,Citrus,Grapefruit</td>\n",
              "      <td>13 Dawgs is a hybrid of G13 and Chemdawg genet...</td>\n",
              "    </tr>\n",
              "    <tr>\n",
              "      <th>4</th>\n",
              "      <td>24K-Gold</td>\n",
              "      <td>hybrid</td>\n",
              "      <td>4.6</td>\n",
              "      <td>Happy,Relaxed,Euphoric,Uplifted,Talkative</td>\n",
              "      <td>Citrus,Earthy,Orange</td>\n",
              "      <td>Also known as Kosher Tangie, 24k Gold is a 60%...</td>\n",
              "    </tr>\n",
              "  </tbody>\n",
              "</table>\n",
              "</div>"
            ],
            "text/plain": [
              "           Strain  ...                                        Description\n",
              "0          100-Og  ...  $100 OG is a 50/50 hybrid strain that packs a ...\n",
              "1  98-White-Widow  ...  The ‘98 Aloha White Widow is an especially pot...\n",
              "2            1024  ...  1024 is a sativa-dominant hybrid bred in Spain...\n",
              "3        13-Dawgs  ...  13 Dawgs is a hybrid of G13 and Chemdawg genet...\n",
              "4        24K-Gold  ...  Also known as Kosher Tangie, 24k Gold is a 60%...\n",
              "\n",
              "[5 rows x 6 columns]"
            ]
          },
          "metadata": {
            "tags": []
          },
          "execution_count": 3
        }
      ]
    },
    {
      "cell_type": "markdown",
      "metadata": {
        "id": "hQwqj6B-wY2k",
        "colab_type": "text"
      },
      "source": [
        "## Gather Info"
      ]
    },
    {
      "cell_type": "code",
      "metadata": {
        "id": "OCCk_69zLDS3",
        "colab_type": "code",
        "outputId": "ed7676be-0043-417b-8417-6f9e4ffd2308",
        "colab": {
          "base_uri": "https://localhost:8080/",
          "height": 134
        }
      },
      "source": [
        "# data types present\n",
        "df.dtypes"
      ],
      "execution_count": 4,
      "outputs": [
        {
          "output_type": "execute_result",
          "data": {
            "text/plain": [
              "Strain          object\n",
              "Type            object\n",
              "Rating         float64\n",
              "Effects         object\n",
              "Flavor          object\n",
              "Description     object\n",
              "dtype: object"
            ]
          },
          "metadata": {
            "tags": []
          },
          "execution_count": 4
        }
      ]
    },
    {
      "cell_type": "code",
      "metadata": {
        "id": "Ov1Gduiauw6Q",
        "colab_type": "code",
        "colab": {
          "base_uri": "https://localhost:8080/",
          "height": 383
        },
        "outputId": "ac414acc-c5ba-45c8-e7ba-be784ee81877"
      },
      "source": [
        "# distribution of values\n",
        "cnts = df.Rating.value_counts(dropna=False)\n",
        "perc = df.Rating.value_counts(dropna=False, normalize=True).round(2)\n",
        "dist = pd.concat([perc,cnts], axis=1, keys=['%','counts'])\n",
        "\n",
        "\n",
        "print(dist.head())\n",
        "sns.distplot(df['Rating'], bins=20, vertical=False);\n"
      ],
      "execution_count": 5,
      "outputs": [
        {
          "output_type": "stream",
          "text": [
            "        %  counts\n",
            "4.5  0.13     317\n",
            "4.3  0.13     297\n",
            "4.4  0.12     284\n",
            "4.6  0.10     242\n",
            "4.2  0.10     225\n"
          ],
          "name": "stdout"
        },
        {
          "output_type": "display_data",
          "data": {
            "image/png": "[encoded data removed]",
            "text/plain": [
              "<Figure size 432x288 with 1 Axes>"
            ]
          },
          "metadata": {
            "tags": []
          }
        }
      ]
    },
    {
      "cell_type": "markdown",
      "metadata": {
        "id": "YOI7iNFAzk35",
        "colab_type": "text"
      },
      "source": [
        "## Getting the basline\n",
        " - split into features and target\n",
        " - Use average for comparison"
      ]
    },
    {
      "cell_type": "code",
      "metadata": {
        "id": "DbFGoUneFJvE",
        "colab_type": "code",
        "outputId": "f5202a37-c942-4114-f78b-2cbff4a99eb4",
        "colab": {
          "base_uri": "https://localhost:8080/",
          "height": 84
        }
      },
      "source": [
        "features = ['Strain', 'Type', 'Effects', 'Flavor', 'Description']\n",
        "target = 'Rating'\n",
        "X = df[features]\n",
        "y = df[target]\n",
        "\n",
        "\n",
        "# Average of ratings used to test \n",
        "y_bl = np.full_like(y, fill_value=y.mean())\n",
        "\n",
        "\n",
        "# Evaluation metrics\n",
        "print(\"Rating average:\", round(y.mean(),1))\n",
        "print('Test MAE:', round(mean_absolute_error(y, y_bl), 4))\n",
        "print('Test RMSE:', round(sqrt(mean_squared_error(y, y_bl)),4))\n",
        "print('Test R^2;', round(r2_score(y, y_bl)))"
      ],
      "execution_count": 6,
      "outputs": [
        {
          "output_type": "stream",
          "text": [
            "Rating average: 4.3\n",
            "Test MAE: 0.4055\n",
            "Test RMSE: 0.8362\n",
            "Test R^2; 0.0\n"
          ],
          "name": "stdout"
        }
      ]
    },
    {
      "cell_type": "markdown",
      "metadata": {
        "id": "HIZiR8CD1CEQ",
        "colab_type": "text"
      },
      "source": [
        "## Split into train/test for predictive modeling"
      ]
    },
    {
      "cell_type": "code",
      "metadata": {
        "id": "1NlVkoTKDvSb",
        "colab_type": "code",
        "colab": {}
      },
      "source": [
        "# Roughly the best scoring split~\n",
        "X_train, X_val, y_train, y_val = train_test_split(X, y, \n",
        "                                                  train_size=0.80,\n",
        "                                                  test_size=0.20,\n",
        "                                                  random_state=42)"
      ],
      "execution_count": 0,
      "outputs": []
    },
    {
      "cell_type": "markdown",
      "metadata": {
        "id": "o3TojfH01loH",
        "colab_type": "text"
      },
      "source": [
        "## Base encoders\n",
        "  - Ordinal or something comprable is necessary to deal with object data\n",
        "    - works for Type column ok\n",
        "    - High Cardinality on the rest\n",
        "     - Try something else\n",
        "  - Scaler just to see\n",
        "      - doesnt actually change anything here\n",
        "  - PCA because why not\n",
        "    - Not much or any improvement"
      ]
    },
    {
      "cell_type": "code",
      "metadata": {
        "id": "x4FMZGe0RWmc",
        "colab_type": "code",
        "colab": {}
      },
      "source": [
        "# Transform ojects to numerical representation\n",
        "encoder = ce.OrdinalEncoder()\n",
        "X_train = encoder.fit_transform(X_train)\n",
        "X_val = encoder.transform(X_val)\n",
        "\n",
        "\n",
        "# Center Data\n",
        "scaler = StandardScaler()\n",
        "X_train = scaler.fit_transform(X_train)\n",
        "X_val = scaler.transform(X_val)\n",
        "\n",
        "\n",
        "# Reduce dimensionality\n",
        "pca = PCA(3, random_state=42)\n",
        "pca.fit(X_train)\n",
        "pca_xtrain = pd.DataFrame(pca.transform(X_train))\n",
        "pca_xtrain.head()\n",
        "pca_xval = pd.DataFrame(pca.transform(X_val))"
      ],
      "execution_count": 0,
      "outputs": []
    },
    {
      "cell_type": "markdown",
      "metadata": {
        "id": "diGvG1cl5gSJ",
        "colab_type": "text"
      },
      "source": [
        "## Linear Regression\n",
        " - Predictions rounded to match trained target"
      ]
    },
    {
      "cell_type": "code",
      "metadata": {
        "id": "7x2wak8yQXyz",
        "colab_type": "code",
        "outputId": "48cb200d-8e6a-4982-f53f-5580f2ae2d24",
        "colab": {
          "base_uri": "https://localhost:8080/",
          "height": 84
        }
      },
      "source": [
        "# Fit and predict\n",
        "lr_model = LinearRegression()\n",
        "lr_model.fit(pca_xtrain, y_train)\n",
        "y_pred = lr_model.predict(pca_xval)\n",
        "\n",
        "\n",
        "# Round predictions\n",
        "y_pred = pd.DataFrame(y_pred)\n",
        "y_pred = y_pred.apply([lambda x: round(x, 1) for x in y_pred])\n",
        "\n",
        "\n",
        "# Evaluation metrics\n",
        "print('Baseline MAE: 0.4055')\n",
        "print('Test MAE:', round(mean_absolute_error(y_val, y_pred), 4))\n",
        "print('Test RMSE:', round(sqrt(mean_squared_error(y_val, y_pred)),4))\n",
        "print('Test R^2;', round(r2_score(y_val, y_pred)))"
      ],
      "execution_count": 16,
      "outputs": [
        {
          "output_type": "stream",
          "text": [
            "Baseline MAE: 0.4055\n",
            "Test MAE: 0.4648\n",
            "Test RMSE: 0.8899\n",
            "Test R^2; 0.0\n"
          ],
          "name": "stdout"
        }
      ]
    },
    {
      "cell_type": "markdown",
      "metadata": {
        "id": "nVQfJCRE8NUo",
        "colab_type": "text"
      },
      "source": [
        "## Beat Baseline \n",
        " - tuned gradient boosted tree "
      ]
    },
    {
      "cell_type": "code",
      "metadata": {
        "id": "--pKhKaZFliT",
        "colab_type": "code",
        "outputId": "fbc23597-5ad0-4810-a17d-f97b8ad49e55",
        "colab": {
          "base_uri": "https://localhost:8080/",
          "height": 154
        }
      },
      "source": [
        "# Parameterize, fit and predict\n",
        "model = XGBRegressor(n_estimators=710,\n",
        "                     max_depth=1,\n",
        "                     n_jobs=-1,\n",
        "                     learning_rate=0.024,\n",
        "                     min_child_weight=1,\n",
        "                     max_delta_step=0,\n",
        "                     subsample=1,\n",
        "                     booster='gbtree',\n",
        "                     objective='reg:squarederror',\n",
        "                     eval_metric='mae',\n",
        "                     random_state=42)\n",
        "model.fit(X_train, y_train)\n",
        "y_pred = model.predict(X_val)\n",
        "\n",
        "\n",
        "# Round predictions\n",
        "y_pred = pd.DataFrame(y_pred)\n",
        "y_pred = y_pred.apply(lambda x: round(x,1) for x in y_pred)\n",
        "\n",
        "\n",
        "# Evaluation metrics\n",
        "print('Baseline MAE: 0.4055')\n",
        "print('Test MAE:', round(mean_absolute_error(y_val, y_pred), 4))\n",
        "print('Test MSE:', round(mean_squared_error(y_val, y_pred), 4))\n",
        "print('Test RMSE:', round(sqrt(mean_squared_error(y_val, y_pred)),4))\n",
        "print('Test R^2;', round(r2_score(y_val, y_pred)))"
      ],
      "execution_count": 22,
      "outputs": [
        {
          "output_type": "stream",
          "text": [
            "/usr/local/lib/python3.6/dist-packages/xgboost/core.py:587: FutureWarning: Series.base is deprecated and will be removed in a future version\n",
            "  if getattr(data, 'base', None) is not None and \\\n"
          ],
          "name": "stderr"
        },
        {
          "output_type": "stream",
          "text": [
            "Baseline MAE: 0.4055\n",
            "Test MAE: 0.3822\n",
            "Test MSE: 0.4335\n",
            "Test RMSE: 0.6584\n",
            "Test R^2; 0.0\n"
          ],
          "name": "stdout"
        }
      ]
    },
    {
      "cell_type": "markdown",
      "metadata": {
        "id": "2rFBM0-_-93d",
        "colab_type": "text"
      },
      "source": [
        "### 0.38 rounds to .4 so there isn't any substantial improvement"
      ]
    }
  ]
}